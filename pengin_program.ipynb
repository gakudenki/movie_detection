{
 "cells": [
  {
   "cell_type": "code",
   "execution_count": 1,
   "metadata": {},
   "outputs": [],
   "source": [
    "import dlib\n",
    "\n",
    "#学習用のオプション変数の生成.\n",
    "options = dlib.simple_object_detector_training_options()\n",
    "\n",
    "#認識はSVMアルゴリズムを使っている。それのコストパラメータを設定.\n",
    "options.C = 3\n",
    "\n",
    "#学習処理を行うときの実行スレッドの数.\n",
    "options.num_threads = 8\n",
    "\n",
    "#左右反転のイメージは生成しない（鯉が一方向に進むだけなので）\n",
    "options.add_left_right_image_flips = False\n",
    "\n",
    "#学習処理の経過を出力する（ターミナルで確認可能）\n",
    "options.be_verbose = True\n",
    "\n",
    "#矩形のXMLデータから学習データを作成.\n",
    "dlib.train_simple_object_detector(\"pengindata1.xml\", \"detector.svm\", options)\n",
    "\n",
    "#学習データから認識オブジェクトの作成.\n",
    "detector = dlib.simple_object_detector(\"detector.svm\")"
   ]
  },
  {
   "cell_type": "code",
   "execution_count": 3,
   "metadata": {},
   "outputs": [
    {
     "ename": "KeyboardInterrupt",
     "evalue": "",
     "output_type": "error",
     "traceback": [
      "\u001b[1;31m---------------------------------------------------------------------------\u001b[0m",
      "\u001b[1;31mKeyboardInterrupt\u001b[0m                         Traceback (most recent call last)",
      "\u001b[1;32m<ipython-input-3-d5514ddd6397>\u001b[0m in \u001b[0;36m<module>\u001b[1;34m\u001b[0m\n\u001b[0;32m     13\u001b[0m \u001b[1;33m\u001b[0m\u001b[0m\n\u001b[0;32m     14\u001b[0m     \u001b[1;31m# 読み込んだフレームを鯉の矩形認識処理に通す.\u001b[0m\u001b[1;33m\u001b[0m\u001b[1;33m\u001b[0m\u001b[1;33m\u001b[0m\u001b[0m\n\u001b[1;32m---> 15\u001b[1;33m     \u001b[0mdets\u001b[0m \u001b[1;33m=\u001b[0m \u001b[0mdetector\u001b[0m\u001b[1;33m(\u001b[0m\u001b[0mframe\u001b[0m\u001b[1;33m)\u001b[0m\u001b[1;33m\u001b[0m\u001b[1;33m\u001b[0m\u001b[0m\n\u001b[0m\u001b[0;32m     16\u001b[0m \u001b[1;33m\u001b[0m\u001b[0m\n\u001b[0;32m     17\u001b[0m     \u001b[1;31m# 返された矩形の数分、フレームに青色で矩形を書き込む.\u001b[0m\u001b[1;33m\u001b[0m\u001b[1;33m\u001b[0m\u001b[1;33m\u001b[0m\u001b[0m\n",
      "\u001b[1;31mKeyboardInterrupt\u001b[0m: "
     ]
    }
   ],
   "source": [
    "import cv2\n",
    "\n",
    "#ぺんぎんの動画（input.mp4）をキャプチャーする.\n",
    "cap = cv2.VideoCapture(\"pengin.mp4\")\n",
    "\n",
    "while(cap.isOpened()):\n",
    "    #キャプチャーで動画のフレームを読み込む.\n",
    "    ret, frame = cap.read()\n",
    "\n",
    "    #フレームが出来なかった場合（動画が終了した場合など）はループを抜ける.\n",
    "    if ret == False:\n",
    "        break\n",
    "\n",
    "    # 読み込んだフレームを鯉の矩形認識処理に通す.\n",
    "    dets = detector(frame)\n",
    "\n",
    "    # 返された矩形の数分、フレームに青色で矩形を書き込む.\n",
    "    for det in dets:\n",
    "        cv2.rectangle(frame, (det.left(), det.top()), (det.right(), det.bottom()), (255, 0, 0), 3)\n",
    "\n",
    "    # 出力ウィンドウにフレームを表示する. \n",
    "    cv2.namedWindow(\"frame\",cv2.WINDOW_NORMAL)\n",
    "    cv2.imshow(\"frame\", frame)\n",
    "\n",
    "    if cv2.waitKey(1) == 27: # ESCキーで終了\n",
    "        break   \n",
    "\n",
    "#キャプチャーの解放.        \n",
    "cap.release()\n",
    "#出力ウィンドウの破棄.\n",
    "cv2.destroyAllWindows()"
   ]
  },
  {
   "cell_type": "code",
   "execution_count": null,
   "metadata": {},
   "outputs": [],
   "source": []
  }
 ],
 "metadata": {
  "kernelspec": {
   "display_name": "Python 3",
   "language": "python",
   "name": "python3"
  },
  "language_info": {
   "codemirror_mode": {
    "name": "ipython",
    "version": 3
   },
   "file_extension": ".py",
   "mimetype": "text/x-python",
   "name": "python",
   "nbconvert_exporter": "python",
   "pygments_lexer": "ipython3",
   "version": "3.7.6"
  }
 },
 "nbformat": 4,
 "nbformat_minor": 4
}
